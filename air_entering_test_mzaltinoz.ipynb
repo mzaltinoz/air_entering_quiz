{
 "cells": [
  {
   "cell_type": "code",
   "execution_count": null,
   "id": "d7dc37fe-8f25-4d98-8b7d-c7e422c527b0",
   "metadata": {},
   "outputs": [],
   "source": [
    "import pandas as pd \n",
    "import numpy as np \n",
    "import seaborn as sns "
   ]
  },
  {
   "cell_type": "code",
   "execution_count": null,
   "metadata": {},
   "outputs": [],
   "source": [
    "df = sns.load_dataset('planets')"
   ]
  },
  {
   "cell_type": "markdown",
   "metadata": {},
   "source": [
    "### Print/ Display the first 5 rows of dataframe"
   ]
  },
  {
   "cell_type": "code",
   "execution_count": null,
   "id": "f57c2abf-fa5a-4b72-953f-3e63422dcdde",
   "metadata": {},
   "outputs": [],
   "source": [
    "# your code here\n",
    "\n",
    "print(df.head())"
   ]
  },
  {
   "cell_type": "markdown",
   "metadata": {},
   "source": [
    "### Print/ Display the last 5 rows of dataframe"
   ]
  },
  {
   "cell_type": "code",
   "execution_count": null,
   "id": "4c27adad-ccd9-4871-8d81-dcc11c742dae",
   "metadata": {},
   "outputs": [],
   "source": [
    "# your code here\n",
    "\n",
    "print(df.tail())"
   ]
  },
  {
   "cell_type": "markdown",
   "id": "a95563a8",
   "metadata": {},
   "source": [
    "### How many unique methods are there?"
   ]
  },
  {
   "cell_type": "markdown",
   "metadata": {},
   "source": [
    "# your code here\n",
    "\n",
    "unique_methods_count = planets[\"method\"].nunique()\n",
    "print(\"Number of unique methods number:\", unique_methods_count)\n"
   ]
  },
  {
   "cell_type": "markdown",
   "metadata": {},
   "source": [
    "### What is the number of data collected in each year?"
   ]
  },
  {
   "cell_type": "code",
   "execution_count": null,
   "metadata": {},
   "outputs": [],
   "source": [
    "# your code here\n",
    "data_count_by_year = planets.groupby(\"year\").size()\n",
    "print(data_count_by_year)"
   ]
  },
  {
   "cell_type": "markdown",
   "metadata": {},
   "source": [
    "### Which columns have missing values and how many?"
   ]
  },
  {
   "cell_type": "code",
   "execution_count": null,
   "metadata": {},
   "outputs": [],
   "source": [
    "# your code here\n",
    "missing_values = planets.isnull().sum()"
   ]
  },
  {
   "cell_type": "markdown",
   "metadata": {},
   "source": [
    "### Write docstring for the function below."
   ]
  },
  {
   "cell_type": "code",
   "execution_count": 7,
   "metadata": {},
   "outputs": [],
   "source": [
    "def do_something(x, y, z):\n",
    "    \"\"\"\n",
    "    Perform a series of mathematical operations involving the provided parameters. Parameters:\n",
    "    - x (float): The first numeric parameter.\n",
    "    - y (float): The second numeric parameter.\n",
    "    - z (float): The third numeric parameter.\n",
    "\n",
    "    Returns:\n",
    "    float: The result of the mathematical operations involving 1/x, 1/y, and 1/z.\n",
    "           Returns None if any of the input parameters is zero to avoid division by zero.\n",
    "\n",
    "    Raises:\n",
    "    ValueError: If any of the input parameters is non-numeric.\n",
    "    TypeError: If any of the input parameters has an unexpected type.\n",
    "\n",
    "    Example:\n",
    "    >>> do_something(2, 3, 4)\n",
    "    1.7142857142857142\n",
    "\n",
    "    Note:\n",
    "    This function performs operations like 1/x + 1/y + 1/z, and then returns the reciprocal of the result.\n",
    "    It is designed to handle non-zero numeric inputs to prevent division by zero.\n",
    "\n",
    "    Warnings:\n",
    "    - Ensure that the input parameters are non-zero to prevent division by zero errors.\n",
    "    - This function assumes that the input parameters are numeric; otherwise, a ValueError is raised.\n",
    "    - The order of operations matters; changing the order may yield different results.\n",
    "\n",
    "   \"\"\"\n",
    "    try:\n",
    "        result = 1 / x + 1 / y + 1 / z\n",
    "    except ZeroDivisionError:\n",
    "        print(\"Error: Division by zero is not allowed. Please provide non-zero values.\")\n",
    "        return None\n",
    "    except TypeError:\n",
    "        raise ValueError(\"Error: Input parameters must be numeric.\")\n",
    "\n",
    "    return 1 / result"
   ]
  },
  {
   "cell_type": "markdown",
   "metadata": {},
   "source": [
    "### Get (print) the docstring of the function defined above."
   ]
  },
  {
   "cell_type": "code",
   "execution_count": null,
   "metadata": {},
   "outputs": [],
   "source": [
    "# your code here\n",
    "print(do_something.__doc__)"
   ]
  },
  {
   "cell_type": "markdown",
   "metadata": {},
   "source": [
    "### Call do_something function for the (11,13,15) values and save it as result"
   ]
  },
  {
   "cell_type": "code",
   "execution_count": null,
   "metadata": {},
   "outputs": [],
   "source": [
    "# your code here\n",
    "result = do_something(11, 13, 15)\n",
    "print(\"Result:\", result)"
   ]
  },
  {
   "cell_type": "markdown",
   "metadata": {},
   "source": [
    "### In the variable 's' containing a sentence, extract the word using result defined above as index"
   ]
  },
  {
   "cell_type": "code",
   "execution_count": 8,
   "metadata": {},
   "outputs": [],
   "source": [
    "s = \"I love Machine Learning and Deep Learning\"\n",
    "index = int(result)\n",
    "words = s.split()\n",
    "if 0 <= index < len(words):\n",
    "    extracted_word = words[index]\n",
    "    print(\"Extracted word:\", extracted_word)\n",
    "else:\n",
    "    print(\"Error: Index out of range.\")\n",
    "# use int() to convert the result to integer\n",
    "# your code here\n"
   ]
  },
  {
   "cell_type": "markdown",
   "metadata": {},
   "source": [
    "### Sort the given array below, do not use built in functions. All sorting methods are allowed."
   ]
  },
  {
   "cell_type": "code",
   "execution_count": 5,
   "metadata": {},
   "outputs": [],
   "source": [
    "# your code here\n",
    "import random\n",
    "\n",
    "arr = [random.randint(1, 100) for i in range(10)]\n",
    "def bubble_sort(array):\n",
    "    n = len(array)\n",
    "\n",
    "    for i in range(n):\n",
    "        for j in range(0, n - i - 1):\n",
    "            if array[j] > array[j + 1]:\n",
    "                array[j], array[j + 1] = array[j + 1], array[j]\n",
    "\n",
    "print(\"Unsorted Array:\", arr)\n",
    "bubble_sort(arr)\n",
    "print(\"Sorted Array:\", arr)\n"
   ]
  },
  {
   "cell_type": "markdown",
   "metadata": {},
   "source": [
    "### define a recursive function to calculate input numbers factorial named factorial"
   ]
  },
  {
   "cell_type": "code",
   "execution_count": null,
   "metadata": {},
   "outputs": [],
   "source": [
    "# your code here\n",
    "def factorial(n):\n",
    "    if n == 0:\n",
    "        return 1\n",
    "    else:\n",
    "        return n * factorial(n - 1)\n",
    "\n",
    "# Example usage\n",
    "result = factorial(5)\n",
    "print(\"Factorial of 5:\", result)"
   ]
  },
  {
   "cell_type": "markdown",
   "metadata": {},
   "source": [
    "### define a function to merge the given arrays and calculate the median named twoMedian"
   ]
  },
  {
   "cell_type": "code",
   "execution_count": 4,
   "metadata": {},
   "outputs": [],
   "source": [
    "# your code here\n",
    "\n",
    "def merge_arrays(arr1, arr2):\n",
    "    \"\"\"\n",
    "    Merge two sorted arrays into a single sorted array. Parameters:\n",
    "    - arr1 (list): The first sorted array.\n",
    "    - arr2 (list): The second sorted array.\n",
    "\n",
    "    Returns:\n",
    "    list: Merged and sorted array.\n",
    "\n",
    "    Example:\n",
    "    >>> merge_arrays([1, 3, 5], [2, 4, 6])\n",
    "    [1, 2, 3, 4, 5, 6]\n",
    "    \"\"\"\n",
    "\n",
    "    merged_array = []\n",
    "    i = j = 0\n",
    "\n",
    "    while i < len(arr1) and j < len(arr2):\n",
    "        if arr1[i] < arr2[j]:\n",
    "            merged_array.append(arr1[i])\n",
    "            i += 1\n",
    "        else:\n",
    "            merged_array.append(arr2[j])\n",
    "            j += 1\n",
    "\n",
    "    # Append the remaining elements of both arrays (if any)\n",
    "    merged_array.extend(arr1[i:])\n",
    "    merged_array.extend(arr2[j:])\n",
    "\n",
    "    return merged_array\n",
    "\n",
    "def twoMedian(arr1, arr2):\n",
    "    merged_array = merge_arrays(arr1, arr2)\n",
    "    length = len(merged_array)\n",
    "\n",
    "    if length % 2 == 0:\n",
    "        middle_left = merged_array[length // 2 - 1]\n",
    "        middle_right = merged_array[length // 2]\n",
    "        return (middle_left + middle_right) / 2\n",
    "    else:\n",
    "        return merged_array[length // 2]\n",
    "\n",
    "# Example usage\n",
    "arr1 = [1, 3, 5]\n",
    "arr2 = [2, 4, 6]\n",
    "result = twoMedian(arr1, arr2)\n",
    "print(\"Median of the merged array:\", result)"
   ]
  }
 ],
 "metadata": {
  "kernelspec": {
   "display_name": "Python 3 (ipykernel)",
   "language": "python",
   "name": "python3"
  },
  "language_info": {
   "codemirror_mode": {
    "name": "ipython",
    "version": 3
   },
   "file_extension": ".py",
   "mimetype": "text/x-python",
   "name": "python",
   "nbconvert_exporter": "python",
   "pygments_lexer": "ipython3",
   "version": "3.11.4"
  }
 },
 "nbformat": 4,
 "nbformat_minor": 5
}
